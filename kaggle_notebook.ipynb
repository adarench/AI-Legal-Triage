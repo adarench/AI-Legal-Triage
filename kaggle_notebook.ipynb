{
 "cells": [
  {
   "cell_type": "markdown",
   "metadata": {},
   "source": [
    "# AI Legal Triage - RoBERTa Training\n",
    "\n",
    "This notebook fine-tunes a RoBERTa model on the CUAD dataset for legal clause classification. The model is part of a dual-track legal contract analysis system.\n",
    "\n",
    "**NOTE: This notebook requires GPU acceleration!**"
   ]
  },
  {
   "cell_type": "markdown",
   "metadata": {},
   "source": [
    "## Check GPU Availability"
   ]
  },
  {
   "cell_type": "code",
   "execution_count": null,
   "metadata": {},
   "outputs": [],
   "source": [
    "!nvidia-smi"
   ]
  },
  {
   "cell_type": "markdown",
   "metadata": {},
   "source": [
    "## Clone the GitHub Repository"
   ]
  },
  {
   "cell_type": "code",
   "execution_count": null,
   "metadata": {},
   "outputs": [],
   "source": [
    "!git clone https://github.com/adarench/AI-Legal-Triage.git\n",
    "%cd AI-Legal-Triage"
   ]
  },
  {
   "cell_type": "markdown",
   "metadata": {},
   "source": [
    "## Install Dependencies\n",
    "\n",
    "We need to install all the required packages for both the preprocessing and training steps."
   ]
  },
  {
   "cell_type": "code",
   "execution_count": null,
   "metadata": {},
   "outputs": [],
   "source": [
    "!pip install datasets transformers torch pandas numpy scikit-learn python-dotenv\n",
    "!pip install -r requirements.txt"
   ]
  },
  {
   "cell_type": "markdown",
   "metadata": {},
   "source": [
    "## Fix Import Paths\n",
    "\n",
    "Let's ensure the imports work correctly when running in Kaggle."
   ]
  },
  {
   "cell_type": "code",
   "execution_count": null,
   "metadata": {},
   "outputs": [],
   "source": [
    "# Add root directory to path\n",
    "import sys\n",
    "import os\n",
    "sys.path.append(os.getcwd())"
   ]
  },
  {
   "cell_type": "markdown",
   "metadata": {},
   "source": [
    "## Create Necessary Directories"
   ]
  },
  {
   "cell_type": "code",
   "execution_count": null,
   "metadata": {},
   "outputs": [],
   "source": [
    "!mkdir -p data/cuad_processed\n",
    "!mkdir -p bert_model/fine_tuned_roberta\n",
    "!mkdir -p results"
   ]
  },
  {
   "cell_type": "markdown",
   "metadata": {},
   "source": [
    "## Download and Preprocess the CUAD Dataset\n",
    "\n",
    "We'll use our custom preprocessing script to download and prepare the CUAD dataset."
   ]
  },
  {
   "cell_type": "code",
   "execution_count": null,
   "metadata": {},
   "outputs": [],
   "source": [
    "from bert_model.cuad_preprocessing import CUADPreprocessor\n",
    "from bert_model.label_map import LABEL_MAP\n",
    "\n",
    "# Initialize preprocessor\n",
    "preprocessor = CUADPreprocessor(output_dir=\"data/cuad_processed\")\n",
    "\n",
    "# Download and preprocess dataset\n",
    "print(\"Downloading and preprocessing CUAD dataset...\")\n",
    "train_df, val_df, test_df = preprocessor.download_and_preprocess()\n",
    "\n",
    "# Create sample file\n",
    "print(\"Creating sample clauses file...\")\n",
    "preprocessor.create_sample_file(filename=\"results/cuad_samples.json\")\n",
    "\n",
    "print(f\"Preprocessing complete! Data saved to data/cuad_processed\")\n",
    "print(f\"Number of training examples: {len(train_df)}\")\n",
    "print(f\"Number of validation examples: {len(val_df)}\")\n",
    "print(f\"Number of testing examples: {len(test_df)}\")\n",
    "print(f\"Number of labels: {len(LABEL_MAP)}\")\n",
    "\n",
    "# Show label distribution\n",
    "label_counts = train_df.label.value_counts()\n",
    "print(\"\\nLabel distribution in training set:\")\n",
    "for label, count in label_counts.items():\n",
    "    print(f\"  {label}: {count}\")"
   ]
  },
  {
   "cell_type": "markdown",
   "metadata": {},
   "source": [
    "## Run Training with Optimal Parameters for Kaggle P100 GPU\n",
    "\n",
    "Now we'll run the training process. This will take a few hours."
   ]
  },
  {
   "cell_type": "code",
   "execution_count": null,
   "metadata": {},
   "outputs": [],
   "source": [
    "from bert_model.train_model import train_model\n",
    "\n",
    "# Run training with optimized parameters for P100\n",
    "metrics = train_model(\n",
    "    data_dir=\"data/cuad_processed\",\n",
    "    output_dir=\"bert_model/fine_tuned_roberta\",\n",
    "    batch_size=16,  # P100 can handle this size\n",
    "    epochs=3,\n",
    "    learning_rate=3e-5,\n",
    "    model_name=\"roberta-base\",\n",
    "    max_length=512,\n",
    "    seed=42\n",
    ")\n",
    "\n",
    "print(f\"Training complete! Model saved to bert_model/fine_tuned_roberta\")\n",
    "print(f\"Test Accuracy: {metrics['accuracy']:.4f}\")\n",
    "print(f\"Test F1 Score: {metrics['f1_score']:.4f}\")"
   ]
  },
  {
   "cell_type": "markdown",
   "metadata": {},
   "source": [
    "## Test the Model on Sample Clauses\n",
    "\n",
    "Let's test our trained model on some sample clauses."
   ]
  },
  {
   "cell_type": "code",
   "execution_count": null,
   "metadata": {},
   "outputs": [],
   "source": [
    "from bert_model.infer_clause import RobertaClausePredictor\n",
    "import json\n",
    "\n",
    "# Load sample clauses\n",
    "with open(\"results/sample_clauses.json\", \"r\") as f:\n",
    "    samples = json.load(f)\n",
    "\n",
    "# Initialize predictor\n",
    "predictor = RobertaClausePredictor(model_dir=\"bert_model/fine_tuned_roberta\")\n",
    "\n",
    "# Test on a few samples\n",
    "for i, sample in enumerate(samples[:3]):  # Just show the first 3\n",
    "    clause_text = sample[\"clause_text\"]\n",
    "    actual_type = sample[\"type\"]\n",
    "    \n",
    "    # Get predictions\n",
    "    prediction = predictor.predict_clause(clause_text)\n",
    "    \n",
    "    print(f\"\\nSample {i+1}:\")\n",
    "    print(f\"Clause excerpt: {clause_text[:100]}...\")\n",
    "    print(f\"Actual type: {actual_type}\")\n",
    "    print(f\"Predicted type: {prediction['type']}\")\n",
    "    print(f\"Risk score: {prediction['risk_score']:.2f}\")\n",
    "    print(f\"Explanation: {prediction['explanation']}\")"
   ]
  },
  {
   "cell_type": "markdown",
   "metadata": {},
   "source": [
    "## Compress the Model for Download\n",
    "\n",
    "Finally, let's package up the trained model for easy download."
   ]
  },
  {
   "cell_type": "code",
   "execution_count": null,
   "metadata": {},
   "outputs": [],
   "source": [
    "!zip -r fine_tuned_roberta.zip bert_model/fine_tuned_roberta/"
   ]
  },
  {
   "cell_type": "markdown",
   "metadata": {},
   "source": [
    "## Done!\n",
    "\n",
    "You can now download the `fine_tuned_roberta.zip` file, which contains the trained model.\n",
    "\n",
    "Unzip it into your local project's `bert_model/` directory to use it for inference."
   ]
  }
 ],
 "metadata": {
  "accelerator": "GPU",
  "colab": {
   "provenance": []
  },
  "kernelspec": {
   "display_name": "Python 3",
   "language": "python",
   "name": "python3"
  },
  "language_info": {
   "codemirror_mode": {
    "name": "ipython",
    "version": 3
   },
   "file_extension": ".py",
   "mimetype": "text/x-python",
   "name": "python",
   "nbconvert_exporter": "python",
   "pygments_lexer": "ipython3",
   "version": "3.11"
  }
 },
 "nbformat": 4,
 "nbformat_minor": 4
}